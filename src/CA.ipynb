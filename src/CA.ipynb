{
 "cells": [
  {
   "cell_type": "code",
   "execution_count": 1,
   "id": "f9c80f34-6a35-43f0-8f5b-c947509643d8",
   "metadata": {
    "tags": []
   },
   "outputs": [
    {
     "name": "stdout",
     "output_type": "stream",
     "text": [
      "Matriz F2B:\n",
      "AA: 0.3897338403041825\n",
      "AC: 0.09378960709759189\n",
      "AG: 0.17490494296577946\n",
      "AT: 0.34157160963244615\n",
      "CA: 0.4517766497461929\n",
      "CC: 0.12690355329949238\n",
      "CG: 0.0583756345177665\n",
      "CT: 0.3629441624365482\n",
      "GA: 0.3958664546899841\n",
      "GC: 0.12241653418124006\n",
      "GG: 0.2066772655007949\n",
      "GT: 0.27503974562798095\n",
      "TA: 0.41582622187742435\n",
      "TC: 0.09231962761830877\n",
      "TG: 0.1551590380139643\n",
      "TT: 0.33669511249030254\n",
      "\n",
      "Matriz B2F:\n",
      "AA: 0.3897338403041825\n",
      "CA: 0.11280101394169835\n",
      "GA: 0.15779467680608364\n",
      "TA: 0.3396704689480355\n",
      "AC: 0.3756345177664975\n",
      "CC: 0.12690355329949238\n",
      "GC: 0.19543147208121828\n",
      "TC: 0.3020304568527919\n",
      "AG: 0.43879173290937995\n",
      "CG: 0.03656597774244833\n",
      "GG: 0.2066772655007949\n",
      "TG: 0.3179650238473768\n",
      "AT: 0.4181536074476338\n",
      "CT: 0.11093871217998448\n",
      "GT: 0.13421256788207914\n",
      "TT: 0.33669511249030254\n"
     ]
    }
   ],
   "source": [
    "from collections import defaultdict\n",
    "import numpy as np\n",
    "\n",
    "# Leer el archivo FASTA\n",
    "with open('protein.fasta', 'r') as f:\n",
    "    secuencia_proteina = f.readlines()[1].strip()  # Saltar la primera línea\n",
    "\n",
    "# Inicializar las matrices F2B y B2F como diccionarios de diccionarios\n",
    "F2B = defaultdict(lambda: defaultdict(int))\n",
    "B2F = defaultdict(lambda: defaultdict(int))\n",
    "\n",
    "# Calcular las matrices F2B y B2F\n",
    "for i in range(len(secuencia_proteina) - 1):\n",
    "    F2B[secuencia_proteina[i]][secuencia_proteina[i+1]] += 1\n",
    "    B2F[secuencia_proteina[i+1]][secuencia_proteina[i]] += 1\n",
    "\n",
    "# Normalizar las matrices F2B y B2F\n",
    "for dominio in F2B:\n",
    "    total = sum(F2B[dominio].values())\n",
    "    for siguiente_dominio in F2B[dominio]:\n",
    "        F2B[dominio][siguiente_dominio] /= total\n",
    "\n",
    "for dominio in B2F:\n",
    "    total = sum(B2F[dominio].values())\n",
    "    for anterior_dominio in B2F[dominio]:\n",
    "        B2F[dominio][anterior_dominio] /= total\n",
    "\n",
    "# Imprimir las matrices F2B y B2F\n",
    "print(\"Matriz F2B:\")\n",
    "for dominio in sorted(F2B.keys()):\n",
    "    for siguiente_dominio in sorted(F2B[dominio].keys()):\n",
    "        print(f\"{dominio}{siguiente_dominio}: {F2B[dominio][siguiente_dominio]}\")\n",
    "\n",
    "print(\"\\nMatriz B2F:\")\n",
    "for dominio in sorted(B2F.keys()):\n",
    "    for anterior_dominio in sorted(B2F[dominio].keys()):\n",
    "        print(f\"{anterior_dominio}{dominio}: {B2F[dominio][anterior_dominio]}\")\n"
   ]
  },
  {
   "cell_type": "code",
   "execution_count": 2,
   "id": "fc6eccb5-a528-42ad-bebe-a23f5900bc88",
   "metadata": {
    "tags": []
   },
   "outputs": [],
   "source": [
    "class AutomataCelular:\n",
    "    def __init__(self, m, g, dominio_ancestral, F2B, B2F):\n",
    "        self.m = m  # Número de dominios en la proteína con más dominios\n",
    "        self.g = g  # Número de clases de dominios en el conjunto de datos de entrenamiento        \n",
    "        self.CA = np.array(['∅' for _ in range(2*m+1)])  # CA de 1D\n",
    "        self.CA[m] = dominio_ancestral  # Establecer la celda del medio como el dominio ancestral\n",
    "        self.F2B = F2B  # Matriz de probabilidades previas de evolución de adelante hacia atrás\n",
    "        self.B2F = B2F  # Matriz de probabilidades previas de evolución de atrás hacia adelante\n",
    "\n",
    "    def seleccion_ruleta(self, probabilidades):\n",
    "        max_val = sum(probabilidades.values())\n",
    "        seleccion = np.random.uniform(0, max_val)\n",
    "        actual = 0\n",
    "        for clave, valor in probabilidades.items():\n",
    "            actual += valor\n",
    "            if actual > seleccion:\n",
    "                return clave\n",
    "\n",
    "    def actualizar_estado(self, t):\n",
    "        for j in range(1, 2*self.m):  # Saltar la primera y última celdas\n",
    "            if self.CA[j] != '∅':\n",
    "                # Regla A: Herencia\n",
    "                self.CA[j] = self.CA[j]\n",
    "            elif self.CA[j-1] != '∅' and self.CA[j+1] == '∅':\n",
    "                # Regla B: Evolución de adelante hacia atrás\n",
    "                self.CA[j] = self.seleccion_ruleta(self.F2B[self.CA[j-1]])\n",
    "            elif self.CA[j-1] == '∅' and self.CA[j+1] != '∅':\n",
    "                # Regla C: Evolución de atrás hacia adelante\n",
    "                self.CA[j] = self.seleccion_ruleta(self.B2F[self.CA[j+1]])                \n",
    "            else:\n",
    "                # Regla D: Volver a inanimidad\n",
    "                self.CA[j] = '∅'\n",
    "\n",
    "    def ejecutar(self):\n",
    "        for t in range(self.m):\n",
    "            print(self.CA)\n",
    "            self.actualizar_estado(t)\n"
   ]
  },
  {
   "cell_type": "code",
   "execution_count": 3,
   "id": "25a2a09f-67b0-4b48-ad6e-664d2b838b9b",
   "metadata": {
    "tags": []
   },
   "outputs": [
    {
     "name": "stdout",
     "output_type": "stream",
     "text": [
      "['∅' '∅' '∅' '∅' '∅' '∅' '∅' '∅' 'A' '∅' '∅' '∅' '∅' '∅' '∅' '∅' '∅']\n",
      "['∅' '∅' '∅' '∅' '∅' '∅' '∅' 'A' 'A' 'C' 'A' 'G' 'A' 'T' 'G' 'A' '∅']\n",
      "['∅' '∅' '∅' '∅' '∅' '∅' 'G' 'A' 'A' 'C' 'A' 'G' 'A' 'T' 'G' 'A' '∅']\n",
      "['∅' '∅' '∅' '∅' '∅' 'G' 'G' 'A' 'A' 'C' 'A' 'G' 'A' 'T' 'G' 'A' '∅']\n",
      "['∅' '∅' '∅' '∅' 'A' 'G' 'G' 'A' 'A' 'C' 'A' 'G' 'A' 'T' 'G' 'A' '∅']\n",
      "['∅' '∅' '∅' 'G' 'A' 'G' 'G' 'A' 'A' 'C' 'A' 'G' 'A' 'T' 'G' 'A' '∅']\n",
      "['∅' '∅' 'A' 'G' 'A' 'G' 'G' 'A' 'A' 'C' 'A' 'G' 'A' 'T' 'G' 'A' '∅']\n",
      "['∅' 'T' 'A' 'G' 'A' 'G' 'G' 'A' 'A' 'C' 'A' 'G' 'A' 'T' 'G' 'A' '∅']\n",
      "['∅' 'T' 'A' 'G' 'A' 'G' 'G' 'A' 'A' 'C' 'A' 'G' 'A' 'T' 'G' 'A' '∅']\n"
     ]
    }
   ],
   "source": [
    "# Create an instance of the CellularAutomaton class\n",
    "CA = AutomataCelular(m=8, g=4, dominio_ancestral='A', F2B=F2B, B2F=B2F)\n",
    "CA.ejecutar()\n",
    "print(CA.CA)"
   ]
  },
  {
   "cell_type": "code",
   "execution_count": null,
   "id": "06d149ca-3d3f-4ffb-908d-e9d524170a69",
   "metadata": {},
   "outputs": [],
   "source": []
  }
 ],
 "metadata": {
  "kernelspec": {
   "display_name": "Python 3 (ipykernel)",
   "language": "python",
   "name": "python3"
  },
  "language_info": {
   "codemirror_mode": {
    "name": "ipython",
    "version": 3
   },
   "file_extension": ".py",
   "mimetype": "text/x-python",
   "name": "python",
   "nbconvert_exporter": "python",
   "pygments_lexer": "ipython3",
   "version": "3.8.4"
  }
 },
 "nbformat": 4,
 "nbformat_minor": 5
}
